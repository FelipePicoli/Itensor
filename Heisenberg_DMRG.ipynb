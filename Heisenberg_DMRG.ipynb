{
 "cells": [
  {
   "cell_type": "markdown",
   "metadata": {},
   "source": [
    "# Heisenberg DMRG"
   ]
  },
  {
   "cell_type": "code",
   "execution_count": 1,
   "metadata": {},
   "outputs": [],
   "source": [
    "#Importing \n",
    "using ITensors"
   ]
  },
  {
   "cell_type": "markdown",
   "metadata": {},
   "source": [
    "The Heisenberge Hamiltonian for chain of N spins 1/2 is\n",
    "\n",
    "\\begin{equation}\n",
    "\\mathcal{H}=J_z\\sum_{i=1}^{N-1}S^z_iS^z_{i+1}+\\frac{J_{xy}}{2}\\sum_{i=1}^{N-1}S^{+}_iS^{-}_{i+1}+\\frac{J_{xy}}{2}\\sum_{i=1}^{N-1}S^{-}_iS^{+}_{i+1}\\;\\;.\n",
    "\\end{equation}\n",
    "\n",
    "The code is based on Fishman, M., White, S. R. & Stoudenmire, E. M. The ITensor software library for tensor network calculations. Preprint at https://arxiv.org/abs/2007.14822 (2020)."
   ]
  },
  {
   "cell_type": "code",
   "execution_count": 3,
   "metadata": {},
   "outputs": [
    {
     "data": {
      "text/plain": [
       "DMRG_main (generic function with 1 method)"
      ]
     },
     "metadata": {},
     "output_type": "display_data"
    }
   ],
   "source": [
    "# Defining MPO representation for the Hamiltonian\n",
    "\n",
    "function Hamiltonian_Heisenberg_MPO(N,Jz,Jxy)  #Number of sites and coupling parameters\n",
    "\n",
    "    sites=siteinds(\"S=1/2\",N)\n",
    "\n",
    "    os=OpSum()\n",
    "\n",
    "    for i in 1:1:N-1\n",
    "\n",
    "        os+=Jz,\"Sz\",i,\"Sz\",i+1\n",
    "        os+=Jxy/2,\"S+\",i,\"S-\",i+1\n",
    "        os+=Jxy/2,\"S-\",i,\"S+\",i+1\n",
    "\n",
    "    end\n",
    "\n",
    "    H=MPO(os,sites)\n",
    "\n",
    "    return H, sites\n",
    "\n",
    "end\n",
    "\n",
    "function DMRG_main(N,Jz,Jxy,sweeps_N)\n",
    "\n",
    "    H,sites=Hamiltonian_Heisenberg_MPO(N,Jz,Jxy)\n",
    "    state=[isodd(n) ? \"Up\" : \"Dn\" for n in 1:1:N]    # Nèel state \n",
    "\n",
    "    psi0_i=MPS(sites,state)\n",
    "\n",
    "    sweeps=Sweeps(sweeps_N)\n",
    "\n",
    "    setmaxdim!(sweeps,10,20,100,200,400,800)\n",
    "    setcutoff!(sweeps,1E-8)\n",
    "\n",
    "    ground,psi0=dmrg(H,psi0_i,sweeps)\n",
    "\n",
    "    return ground, expect(psi0,\"Sz\")\n",
    "\n",
    "end"
   ]
  },
  {
   "cell_type": "code",
   "execution_count": 4,
   "metadata": {},
   "outputs": [
    {
     "name": "stdout",
     "output_type": "stream",
     "text": [
      "After sweep 1 energy=-23.8501129426086  maxlinkdim=4 maxerr=4.44E-16 time=8.025\n"
     ]
    },
    {
     "name": "stdout",
     "output_type": "stream",
     "text": [
      "After sweep 2 energy=-24.651201585402966  maxlinkdim=16 maxerr=8.51E-09 time=0.210\n"
     ]
    },
    {
     "name": "stdout",
     "output_type": "stream",
     "text": [
      "After sweep 3 energy=-24.708847623666518  maxlinkdim=37 maxerr=1.00E-08 time=0.970\n"
     ]
    },
    {
     "name": "stdout",
     "output_type": "stream",
     "text": [
      "After sweep 4 energy=-24.725421323931258  maxlinkdim=39 maxerr=9.98E-09 time=1.839\n"
     ]
    },
    {
     "name": "stdout",
     "output_type": "stream",
     "text": [
      "After sweep 5 energy=-24.734036327369687  maxlinkdim=37 maxerr=9.99E-09 time=1.739\n"
     ]
    },
    {
     "name": "stdout",
     "output_type": "stream",
     "text": [
      "After sweep 6 energy=-24.739023303765265  maxlinkdim=38 maxerr=9.97E-09 time=1.446\n"
     ]
    },
    {
     "name": "stdout",
     "output_type": "stream",
     "text": [
      "After sweep 7 energy=-24.74269963166692  maxlinkdim=43 maxerr=9.93E-09 time=1.330\n"
     ]
    },
    {
     "name": "stdout",
     "output_type": "stream",
     "text": [
      "After sweep 8 energy=-24.745107728266778  maxlinkdim=44 maxerr=9.99E-09 time=1.348\n"
     ]
    },
    {
     "name": "stdout",
     "output_type": "stream",
     "text": [
      "After sweep 9 energy=-24.746558861448243  maxlinkdim=43 maxerr=9.97E-09 time=1.349\n"
     ]
    },
    {
     "name": "stdout",
     "output_type": "stream",
     "text": [
      "After sweep 10 energy=-24.74755653150531  maxlinkdim=45 maxerr=9.98E-09 time=1.373\n"
     ]
    },
    {
     "name": "stdout",
     "output_type": "stream",
     "text": [
      "After sweep 11 energy=-24.748258161188105  maxlinkdim=43 maxerr=1.00E-08 time=1.284\n"
     ]
    },
    {
     "name": "stdout",
     "output_type": "stream",
     "text": [
      "After sweep 12 energy=-24.748775662452147  maxlinkdim=51 maxerr=9.98E-09 time=1.296\n"
     ]
    },
    {
     "name": "stdout",
     "output_type": "stream",
     "text": [
      "After sweep 13 energy=-24.749144641959408  maxlinkdim=42 maxerr=9.99E-09 time=1.331\n"
     ]
    },
    {
     "name": "stdout",
     "output_type": "stream",
     "text": [
      "After sweep 14 energy=-24.74938653133643  maxlinkdim=44 maxerr=9.99E-09 time=1.262\n"
     ]
    },
    {
     "name": "stdout",
     "output_type": "stream",
     "text": [
      "After sweep 15 energy=-24.749573442037367  maxlinkdim=41 maxerr=9.99E-09 time=1.309\n",
      "After sweep 16 energy=-24.749701034230306  maxlinkdim=51 maxerr=1.00E-08 time=1.225\n"
     ]
    },
    {
     "name": "stdout",
     "output_type": "stream",
     "text": [
      "After sweep 17 energy=-24.749800181330475  maxlinkdim=46 maxerr=9.95E-09 time=1.232\n"
     ]
    },
    {
     "name": "stdout",
     "output_type": "stream",
     "text": [
      "After sweep 18 energy=-24.749870023011628  maxlinkdim=46 maxerr=9.99E-09 time=1.180\n"
     ]
    },
    {
     "name": "stdout",
     "output_type": "stream",
     "text": [
      "After sweep 19 energy=-24.749919960542908  maxlinkdim=51 maxerr=9.99E-09 time=1.219\n"
     ]
    },
    {
     "name": "stdout",
     "output_type": "stream",
     "text": [
      "After sweep 20 energy=-24.749952724383018  maxlinkdim=49 maxerr=9.99E-09 time=1.171\n"
     ]
    },
    {
     "name": "stdout",
     "output_type": "stream",
     "text": [
      "The Ground State total Energy is:-24.749952724383018\n"
     ]
    }
   ],
   "source": [
    "N=100                        # Number of spins\n",
    "Number_of_Sweeps=20         # Number of Sweeps of DMRG\n",
    "Jz=-1                        # ZZ coupling\n",
    "Jxy=-1                       # XY Coupling\n",
    "\n",
    "Ground_state_energy,M=DMRG_main(N,Jz,Jxy,Number_of_Sweeps)\n",
    "\n",
    "println(\"The Ground State total Energy is:\", Ground_state_energy)"
   ]
  },
  {
   "cell_type": "code",
   "execution_count": 6,
   "metadata": {},
   "outputs": [
    {
     "data": {
      "text/plain": [
       "-4.090883446620543e-6"
      ]
     },
     "metadata": {},
     "output_type": "display_data"
    }
   ],
   "source": [
    "sum(M)"
   ]
  }
 ],
 "metadata": {
  "kernelspec": {
   "display_name": "Julia 1.9.3",
   "language": "julia",
   "name": "julia-1.9"
  },
  "language_info": {
   "file_extension": ".jl",
   "mimetype": "application/julia",
   "name": "julia",
   "version": "1.9.3"
  }
 },
 "nbformat": 4,
 "nbformat_minor": 2
}
